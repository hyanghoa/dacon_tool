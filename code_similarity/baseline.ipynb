{
 "cells": [
  {
   "cell_type": "markdown",
   "id": "199be930-7e11-43f4-b056-a52fc1a93dc8",
   "metadata": {
    "tags": []
   },
   "source": [
    "## Import"
   ]
  },
  {
   "cell_type": "code",
   "execution_count": 1,
   "id": "94dc6b5c-f92a-403d-a6f0-599f712dd15b",
   "metadata": {},
   "outputs": [],
   "source": [
    "import time\n",
    "import re\n",
    "import os\n",
    "import random\n",
    "from pprint import pprint\n",
    "from itertools import combinations, product\n",
    "\n",
    "import torch\n",
    "from torch import nn\n",
    "import torch.nn.functional as F\n",
    "import torch_optimizer as optim\n",
    "# import deepspeed\n",
    "import pandas as pd\n",
    "import numpy as np\n",
    "from sklearn.metrics.pairwise import cosine_similarity\n",
    "from sklearn.model_selection import train_test_split\n",
    "from transformers import (\n",
    "    AutoTokenizer,\n",
    "    AutoModel,\n",
    "    AutoModelForSequenceClassification,\n",
    "    RobertaTokenizer,\n",
    "    RobertaModel,\n",
    "    RobertaForSequenceClassification,\n",
    "    AutoModelWithLMHead,\n",
    "    AutoModelForSeq2SeqLM,\n",
    "    DataCollatorWithPadding,\n",
    "    TrainingArguments,\n",
    "    Trainer,\n",
    "    PreTrainedTokenizerFast, AddedToken\n",
    ")\n",
    "from datasets import load_dataset, load_metric\n",
    "from tqdm.notebook import tqdm\n",
    "from rank_bm25 import BM25Okapi"
   ]
  },
  {
   "cell_type": "markdown",
   "id": "93315f6c-f85f-403b-8337-3fb509b7237c",
   "metadata": {},
   "source": [
    "## Hyper parameters"
   ]
  },
  {
   "cell_type": "code",
   "execution_count": 2,
   "id": "73044582-489f-4b93-b38d-6cbac9f3241e",
   "metadata": {},
   "outputs": [],
   "source": [
    "TRAIN_DATA = \"open/preprocess_bm25.csv\"\n",
    "VAL_DATA = \"open/sample_train.csv\"\n",
    "SAMPLE_DATA = \"open/sample_train.csv\"\n",
    "CODE_DATA_PATH = \"open/code\"\n",
    "TEST_DATA = \"open/test.csv\"\n",
    "SUBMISSION = 'open/sample_submission.csv'\n",
    "TOKENIZER_MODEL = \"microsoft/graphcodebert-base\" # \"microsoft/graphcodebert-base\"\n",
    "PRETRAINED_MODEL = \"michiyasunaga/BioLinkBERT-base\" # TODO: Large 모델 성능 실험\n",
    "NUM_LABELS = 2\n",
    "MAX_LEN = 512\n",
    "BATCH = 32\n",
    "NUM_WORKERS = 4\n",
    "GRADIENT_CHECKPOINTING = True\n",
    "GRADIENT_ACCUMULATION_STEPS = 4\n",
    "EPOCHS = 5\n",
    "INIT_LR = 5e-6\n",
    "MAX_LR = 5e-3\n",
    "WD = 1e-2\n",
    "SEED = 42\n",
    "TRAIN_TEST_SPLIT_RATIO = 0.1\n",
    "TRAIN_SELECT_NUM = 200000\n",
    "VAL_SELECT_NUM = int(TRAIN_SELECT_NUM * 0.1)\n",
    "DEEPSPEED_CONFIG = \"ds_config_zero2.json\"\n",
    "OUTPUT_DIR = \"./results\"\n",
    "os.environ[\"TOKENIZERS_PARALLELISM\"] = \"false\"\n",
    "# os.environ[\"MASTER_ADDR\"] = \"localhost\"\n",
    "# os.environ[\"MASTER_PORT\"] = \"9994\"  # modify if RuntimeError: Address already in use\n",
    "# os.environ[\"RANK\"] = \"0\"\n",
    "# os.environ[\"LOCAL_RANK\"] = \"0\"\n",
    "# os.environ[\"WORLD_SIZE\"] = \"1\""
   ]
  },
  {
   "cell_type": "markdown",
   "id": "55261051-9fa6-4598-900e-06105cb9c563",
   "metadata": {
    "tags": []
   },
   "source": [
    "## Fix seed"
   ]
  },
  {
   "cell_type": "code",
   "execution_count": 3,
   "id": "4c57a3ee-1cf9-4d43-a1b3-30168b890d31",
   "metadata": {},
   "outputs": [],
   "source": [
    "random.seed(SEED)\n",
    "np.random.seed(SEED)\n",
    "torch.manual_seed(SEED)\n",
    "torch.cuda.manual_seed(SEED)\n",
    "torch.cuda.manual_seed_all(SEED)\n",
    "torch.backends.cudnn.deterministic = True  # True 할 시 연산속도 감소. 마지막에 고정시킬 때 사용 권장.\n",
    "torch.backends.cudnn.benchmark = False\n",
    "os.environ[\"PYTHONHASHSEED\"] = str(SEED)"
   ]
  },
  {
   "cell_type": "markdown",
   "id": "c8420bd1-8115-40a1-91fb-021d3d3aed7a",
   "metadata": {
    "tags": []
   },
   "source": [
    "## Functions"
   ]
  },
  {
   "cell_type": "code",
   "execution_count": 4,
   "id": "8d1f6adf-8c00-4491-b767-8b3230981e8c",
   "metadata": {},
   "outputs": [],
   "source": [
    "def preprocess_function(examples):\n",
    "    for i in range(1, 3):\n",
    "        for j in range(len(examples[f\"code{i}\"])):\n",
    "            examples[f\"code{i}\"][j] = re.sub(\"#.*\", \"\", examples[f\"code{i}\"][j], flags=re.MULTILINE)\n",
    "            examples[f\"code{i}\"][j] = re.sub('\"\"\".*?\"\"\"', \"\", examples[f\"code{i}\"][j], flags=re.S)\n",
    "            examples[f\"code{i}\"][j] = re.sub(\"'''.*?'''\", \"\", examples[f\"code{i}\"][j], flags=re.S)\n",
    "            examples[f\"code{i}\"][j] = re.sub(\"b'.*?'\", \"b''\", examples[f\"code{i}\"][j], flags=re.MULTILINE)\n",
    "            examples[f\"code{i}\"][j] = re.sub('b\".*?\"', 'b\"\"', examples[f\"code{i}\"][j], flags=re.MULTILINE)\n",
    "            examples[f\"code{i}\"][j] = re.sub(\"^from .*? import .*?\\n\", \"\", examples[f\"code{i}\"][j], flags=re.MULTILINE) # TODO: 이거 포함시켜서 preprocess 하면 성능 향상 되는지 확인하기\n",
    "            examples[f\"code{i}\"][j] = re.sub(\"^import .*?\\n\", \"\", examples[f\"code{i}\"][j], flags=re.MULTILINE)\n",
    "            examples[f\"code{i}\"][j] = re.sub(\"@.*\", \"\", examples[f\"code{i}\"][j], flags=re.MULTILINE)\n",
    "            examples[f\"code{i}\"][j] = re.sub(\"^\\n\", \"\", examples[f\"code{i}\"][j], flags=re.MULTILINE)\n",
    "            examples[f\"code{i}\"][j] = re.sub(\"^ *?\\n\", \"\", examples[f\"code{i}\"][j], flags=re.MULTILINE)\n",
    "            examples[f\"code{i}\"][j] = re.sub(\"    \", \"\\t\", examples[f\"code{i}\"][j], flags=re.MULTILINE)\n",
    "        \n",
    "    outputs = tokenizer(examples['code1'], examples['code2'], max_length=MAX_LEN, return_token_type_ids=True, truncation=True)\n",
    "    if 'similar' in examples:\n",
    "        outputs[\"labels\"] = examples[\"similar\"]\n",
    "    return outputs\n",
    "\n",
    "def metric_function(p):\n",
    "    preds, labels = p\n",
    "    output =  metric.compute(references=labels, predictions=np.argmax(preds, axis=-1))\n",
    "    return output\n",
    "\n",
    "def make_train_dataset_from_codefolder(path):\n",
    "    scripts_list = []\n",
    "    problem_nums = []\n",
    "\n",
    "    for problem_folder in tqdm(os.listdir(path)):\n",
    "        scripts = os.listdir(os.path.join(path, problem_folder))\n",
    "        problem_num = scripts[0].split('_')[0]\n",
    "        for script in scripts:\n",
    "            script_file = os.path.join(path, problem_folder, script)\n",
    "            with open(script_file, 'r', encoding='utf-8') as file:\n",
    "                lines = file.read()\n",
    "            lines = re.sub(\"#.*\", \"\", lines, flags=re.MULTILINE)\n",
    "            lines = re.sub('\"\"\".*?\"\"\"', \"\", lines, flags=re.S)\n",
    "            lines = re.sub(\"'''.*?'''\", \"\", lines, flags=re.S)\n",
    "            lines = re.sub(\"b'.*?'\", \"b''\", lines, flags=re.MULTILINE)\n",
    "            lines = re.sub('b\".*?\"', 'b\"\"', lines, flags=re.MULTILINE)\n",
    "            lines = re.sub(\"^from .*? import .*?\\n\", \"\", lines, flags=re.MULTILINE) # TODO: 이거 포함시켜서 preprocess 하면 성능 향상 되는지 확인하기\n",
    "            lines = re.sub(\"^import .*?\\n\", \"\", lines, flags=re.MULTILINE)\n",
    "            lines = re.sub(\"@.*\", \"\", lines, flags=re.MULTILINE)\n",
    "            lines = re.sub(\"^\\n\", \"\", lines, flags=re.MULTILINE)\n",
    "            lines = re.sub(\"^ *?\\n\", \"\", lines, flags=re.MULTILINE)\n",
    "            lines = re.sub(\"    \", \"\\t\", lines, flags=re.MULTILINE)\n",
    "            scripts_list.append(lines)\n",
    "        problem_nums.extend([problem_num]*len(scripts))\n",
    "\n",
    "    df = pd.DataFrame(data = {'code':scripts_list, 'problem_num':problem_nums})\n",
    "    print(f\"Descirbe: \\n{df.describe()}\")\n",
    "    print(f\"Head: \\n{df.head()}\")\n",
    "    print(f\"Length: \\n{len(df)}\")\n",
    "\n",
    "    df['tokens'] = df['code'].apply(tokenizer.tokenize)\n",
    "    print(df['tokens'])\n",
    "    df['len'] = df['tokens'].apply(len)\n",
    "    print(f\"Tokens Describe: \\n{df.describe()}\")\n",
    "\n",
    "    ndf = df[df['len'] <= MAX_LEN].reset_index(drop=True)\n",
    "    print(f\"Max Length Clipping Describe: \\n{ndf.describe()}\")\n",
    "    return ndf\n",
    "    # train_df, val_df, _, _ = train_test_split(\n",
    "    #     ndf,\n",
    "    #     ndf['problem_num'],\n",
    "    #     random_state=SEED,\n",
    "    #     test_size=TRAIN_TEST_SPLIT_RATIO,\n",
    "    #     stratify=ndf['problem_num'],\n",
    "    # )\n",
    "    # train_df = train_df.reset_index(drop=True)\n",
    "    # val_df = val_df.reset_index(drop=True)\n",
    "    # print(\"Done!\")\n",
    "    # return train_df, val_df\n",
    "\n",
    "def preprocess_bm25(df, file_name=\"preprocess_bm25\"):\n",
    "    codes = df['code'].to_list()\n",
    "    problems = df['problem_num'].unique().tolist()\n",
    "    problems.sort()\n",
    "\n",
    "    tokenized_corpus = [tokenizer.tokenize(code) for code in codes]\n",
    "    bm25 = BM25Okapi(tokenized_corpus)\n",
    "\n",
    "    total_positive_pairs = []\n",
    "    total_negative_pairs = []\n",
    "\n",
    "    for problem in tqdm(problems):\n",
    "        solution_codes = df[df['problem_num'] == problem]['code']\n",
    "        positive_pairs = list(combinations(solution_codes.to_list(),2))\n",
    "\n",
    "        solution_codes_indices = solution_codes.index.to_list()\n",
    "        negative_pairs = []\n",
    "\n",
    "        first_tokenized_code = tokenizer.tokenize(positive_pairs[0][0])\n",
    "        negative_code_scores = bm25.get_scores(first_tokenized_code)\n",
    "        negative_code_ranking = negative_code_scores.argsort()[::-1] # 내림차순\n",
    "        ranking_idx = 0\n",
    "\n",
    "        for solution_code in solution_codes:\n",
    "            negative_solutions = []\n",
    "            while len(negative_solutions) < len(positive_pairs) // len(solution_codes):\n",
    "                high_score_idx = negative_code_ranking[ranking_idx]\n",
    "\n",
    "                if high_score_idx not in solution_codes_indices:\n",
    "                    negative_solutions.append(df['code'].iloc[high_score_idx])\n",
    "                ranking_idx += 1\n",
    "\n",
    "            for negative_solution in negative_solutions:\n",
    "                negative_pairs.append((solution_code, negative_solution))\n",
    "\n",
    "        total_positive_pairs.extend(positive_pairs)\n",
    "        total_negative_pairs.extend(negative_pairs)\n",
    "\n",
    "    pos_code1 = list(map(lambda x:x[0],total_positive_pairs))\n",
    "    pos_code2 = list(map(lambda x:x[1],total_positive_pairs))\n",
    "\n",
    "    neg_code1 = list(map(lambda x:x[0],total_negative_pairs))\n",
    "    neg_code2 = list(map(lambda x:x[1],total_negative_pairs))\n",
    "\n",
    "    pos_label = [1]*len(pos_code1)\n",
    "    neg_label = [0]*len(neg_code1)\n",
    "\n",
    "    pos_code1.extend(neg_code1)\n",
    "    total_code1 = pos_code1\n",
    "    pos_code2.extend(neg_code2)\n",
    "    total_code2 = pos_code2\n",
    "    pos_label.extend(neg_label)\n",
    "    total_label = pos_label\n",
    "    pair_data = pd.DataFrame(data={\n",
    "        'code1':total_code1,\n",
    "        'code2':total_code2,\n",
    "        'similar':total_label\n",
    "    })\n",
    "    pair_data = pair_data.sample(frac=1).reset_index(drop=True)\n",
    "\n",
    "    pair_data.to_csv(f'open/{file_name}.csv',index=False)\n",
    "\n",
    "    \n",
    "# def preprocess_bm25(df, file_name=\"preprocess_bm25\"):\n",
    "#     codes = df['code'].to_list()\n",
    "#     problems = df['problem_num'].unique().tolist()\n",
    "#     problems.sort()\n",
    "\n",
    "#     tokenized_corpus = [tokenizer.tokenize(code) for code in codes]\n",
    "#     bm25 = BM25Okapi(tokenized_corpus)\n",
    "\n",
    "#     total_positive_pairs = []\n",
    "#     total_negative_pairs = []\n",
    "\n",
    "#     for problem in tqdm(problems):\n",
    "#         solution_codes = df[df['problem_num'] == problem]['code']\n",
    "#         positive_pairs = list(combinations(solution_codes.to_list(),2))\n",
    "\n",
    "#         solution_codes_indices = solution_codes.index.to_list()\n",
    "#         negative_pairs = []\n",
    "\n",
    "#         first_tokenized_code = tokenizer.tokenize(positive_pairs[0][0])\n",
    "#         negative_code_scores = bm25.get_scores(first_tokenized_code)\n",
    "#         negative_code_ranking = negative_code_scores.argsort()[::-1] # 내림차순\n",
    "#         ranking_idx = 0\n",
    "\n",
    "#         for solution_code in solution_codes:\n",
    "#             negative_solutions = []\n",
    "#             while len(negative_solutions) < len(positive_pairs) // len(solution_codes):\n",
    "#                 high_score_idx = negative_code_ranking[ranking_idx]\n",
    "\n",
    "#                 if high_score_idx not in solution_codes_indices:\n",
    "#                     negative_solutions.append(df['code'].iloc[high_score_idx])\n",
    "#                 ranking_idx += 1\n",
    "\n",
    "#             for negative_solution in negative_solutions:\n",
    "#                 negative_pairs.append((solution_code, negative_solution))\n",
    "\n",
    "#         total_positive_pairs.extend(positive_pairs)\n",
    "#         total_negative_pairs.extend(negative_pairs)\n",
    "\n",
    "#     pos_code1 = list(map(lambda x:x[0],total_positive_pairs))\n",
    "#     pos_code2 = list(map(lambda x:x[1],total_positive_pairs))\n",
    "\n",
    "#     neg_code1 = list(map(lambda x:x[0],total_negative_pairs))\n",
    "#     neg_code2 = list(map(lambda x:x[1],total_negative_pairs))\n",
    "\n",
    "#     pos_label = [1]*len(pos_code1)\n",
    "#     neg_label = [0]*len(neg_code1)\n",
    "\n",
    "#     pos_code1.extend(neg_code1)\n",
    "#     total_code1 = pos_code1\n",
    "#     pos_code2.extend(neg_code2)\n",
    "#     total_code2 = pos_code2\n",
    "#     pos_label.extend(neg_label)\n",
    "#     total_label = pos_label\n",
    "#     pair_data = pd.DataFrame(data={\n",
    "#         'code1':total_code1,\n",
    "#         'code2':total_code2,\n",
    "#         'similar':total_label\n",
    "#     })\n",
    "#     pair_data = pair_data.sample(frac=1).reset_index(drop=True)\n",
    "#     pair_data.to_csv(f'open/{file_name}.csv',index=False)"
   ]
  },
  {
   "cell_type": "markdown",
   "id": "3574acd8-517e-4fd2-ae11-cbe2e3b10d33",
   "metadata": {},
   "source": [
    "## Load Train / Test dataset"
   ]
  },
  {
   "cell_type": "code",
   "execution_count": 5,
   "id": "ece7d25b-88cb-40d4-b1f6-9d5a888d77b2",
   "metadata": {
    "tags": []
   },
   "outputs": [
    {
     "data": {
      "application/vnd.jupyter.widget-view+json": {
       "model_id": "4e0779b66d2b49ad93e5e84ba7aa95cd",
       "version_major": 2,
       "version_minor": 0
      },
      "text/plain": [
       "  0%|          | 0/300 [00:00<?, ?it/s]"
      ]
     },
     "metadata": {},
     "output_type": "display_data"
    },
    {
     "name": "stderr",
     "output_type": "stream",
     "text": [
      "Token indices sequence length is longer than the specified maximum sequence length for this model (526 > 512). Running this sequence through the model will result in indexing errors\n"
     ]
    },
    {
     "name": "stdout",
     "output_type": "stream",
     "text": [
      "Descirbe: \n",
      "                                                     code problem_num\n",
      "count                                               45101       45101\n",
      "unique                                              45089         300\n",
      "top     n, m = list(map(int, input().split()))\\nc = li...  problem262\n",
      "freq                                                    2         153\n",
      "Head: \n",
      "                                                code problem_num\n",
      "0  dp = [0, 1]\\ns = input()\\ns = s[::-1]\\ns += \"0...  problem219\n",
      "1  m=str(raw_input())\\nn=[int(i) for i in m]\\nn.i...  problem219\n",
      "2  s = input()\\nINF = float('inf')\\ndp = [[INF,IN...  problem219\n",
      "3  n = input()[::-1]\\ndp = [[0, 0] for i in range...  problem219\n",
      "4  n = str(input())\\nn_list = list(reversed(n))\\n...  problem219\n",
      "Length: \n",
      "45101\n",
      "0        [dp, Ġ=, Ġ[, 0, ,, Ġ1, ], Ċ, s, Ġ=, Ġinput, ()...\n",
      "1        [m, =, str, (, raw, _, input, ()), Ċ, n, =[, i...\n",
      "2        [s, Ġ=, Ġinput, (), Ċ, IN, F, Ġ=, Ġfloat, (', ...\n",
      "3        [n, Ġ=, Ġinput, (), [, ::, -, 1, ], Ċ, dp, Ġ=,...\n",
      "4        [n, Ġ=, Ġstr, (, input, ()), Ċ, n, _, list, Ġ=...\n",
      "                               ...                        \n",
      "45096    [def, Ġcheck, (, P, ):, Ċ, ĉ, i, Ġ=, Ġ0, Ċ, ĉ,...\n",
      "45097    [input, Ġ=, Ġstd, in, ., read, line, Ċ, n, ,, ...\n",
      "45098    [def, Ġcount, Pak, ages, (, P, ,, Ġk, ,, ĠW, )...\n",
      "45099    [def, Ġis, _, load, able, (, load, ,, Ġnum, _,...\n",
      "45100    [n, ,, Ġk, Ġ=, Ġmap, (, int, ,, raw, _, input,...\n",
      "Name: tokens, Length: 45101, dtype: object\n",
      "Tokens Describe: \n",
      "                len\n",
      "count  45101.000000\n",
      "mean     154.048957\n",
      "std      480.721461\n",
      "min        6.000000\n",
      "25%       61.000000\n",
      "50%      106.000000\n",
      "75%      194.000000\n",
      "max    97558.000000\n",
      "Max Length Clipping Describe: \n",
      "                len\n",
      "count  43873.000000\n",
      "mean     136.221663\n",
      "std      103.630762\n",
      "min        6.000000\n",
      "25%       60.000000\n",
      "50%      103.000000\n",
      "75%      184.000000\n",
      "max      512.000000\n"
     ]
    },
    {
     "data": {
      "application/vnd.jupyter.widget-view+json": {
       "model_id": "676c6773b81345ebbcb94a6438d11a9a",
       "version_major": 2,
       "version_minor": 0
      },
      "text/plain": [
       "  0%|          | 0/300 [00:00<?, ?it/s]"
      ]
     },
     "metadata": {},
     "output_type": "display_data"
    },
    {
     "name": "stderr",
     "output_type": "stream",
     "text": [
      "Using custom data configuration default-c6341f23fb91ff84\n"
     ]
    },
    {
     "name": "stdout",
     "output_type": "stream",
     "text": [
      "Downloading and preparing dataset csv/default to /home/djlee/.cache/huggingface/datasets/csv/default-c6341f23fb91ff84/0.0.0/433e0ccc46f9880962cc2b12065189766fbb2bee57a221866138fb9203c83519...\n"
     ]
    },
    {
     "data": {
      "application/vnd.jupyter.widget-view+json": {
       "model_id": "87a73dfd174c48a0830b74b86b5dda37",
       "version_major": 2,
       "version_minor": 0
      },
      "text/plain": [
       "Downloading data files:   0%|          | 0/1 [00:00<?, ?it/s]"
      ]
     },
     "metadata": {},
     "output_type": "display_data"
    },
    {
     "data": {
      "application/vnd.jupyter.widget-view+json": {
       "model_id": "4e4e7f9a1d6945d18513a41227771034",
       "version_major": 2,
       "version_minor": 0
      },
      "text/plain": [
       "Extracting data files:   0%|          | 0/1 [00:00<?, ?it/s]"
      ]
     },
     "metadata": {},
     "output_type": "display_data"
    },
    {
     "name": "stdout",
     "output_type": "stream",
     "text": [
      "Dataset csv downloaded and prepared to /home/djlee/.cache/huggingface/datasets/csv/default-c6341f23fb91ff84/0.0.0/433e0ccc46f9880962cc2b12065189766fbb2bee57a221866138fb9203c83519. Subsequent calls will reuse this data.\n"
     ]
    },
    {
     "data": {
      "application/vnd.jupyter.widget-view+json": {
       "model_id": "8c2cdd6340e9445f95d267d49fa03af2",
       "version_major": 2,
       "version_minor": 0
      },
      "text/plain": [
       "  0%|          | 0/1 [00:00<?, ?it/s]"
      ]
     },
     "metadata": {},
     "output_type": "display_data"
    },
    {
     "name": "stderr",
     "output_type": "stream",
     "text": [
      "Parameter 'function'=<function preprocess_function at 0x7f51a7a10f70> of the transform datasets.arrow_dataset.Dataset._map_single couldn't be hashed properly, a random hash was used instead. Make sure your transforms and parameters are serializable with pickle or dill for the dataset fingerprinting and caching to work. If you reuse this transform, the caching mechanism will consider it to be different from the previous calls and recompute everything. This warning is only showed once. Subsequent hashing failures won't be showed.\n"
     ]
    },
    {
     "data": {
      "application/vnd.jupyter.widget-view+json": {
       "model_id": "dcd079975d9b42e691b30268ac067a92",
       "version_major": 2,
       "version_minor": 0
      },
      "text/plain": [
       "  0%|          | 0/200 [00:00<?, ?ba/s]"
      ]
     },
     "metadata": {},
     "output_type": "display_data"
    },
    {
     "name": "stderr",
     "output_type": "stream",
     "text": [
      "Using custom data configuration default-1d2e243c78cf06c7\n",
      "Reusing dataset csv (/home/djlee/.cache/huggingface/datasets/csv/default-1d2e243c78cf06c7/0.0.0/433e0ccc46f9880962cc2b12065189766fbb2bee57a221866138fb9203c83519)\n"
     ]
    },
    {
     "data": {
      "application/vnd.jupyter.widget-view+json": {
       "model_id": "3f0280541ab5438ba201b0c46890ce0a",
       "version_major": 2,
       "version_minor": 0
      },
      "text/plain": [
       "  0%|          | 0/1 [00:00<?, ?it/s]"
      ]
     },
     "metadata": {},
     "output_type": "display_data"
    },
    {
     "data": {
      "application/vnd.jupyter.widget-view+json": {
       "model_id": "d3e674ad66bf4aba88ebbb49e9c2c499",
       "version_major": 2,
       "version_minor": 0
      },
      "text/plain": [
       "  0%|          | 0/18 [00:00<?, ?ba/s]"
      ]
     },
     "metadata": {},
     "output_type": "display_data"
    }
   ],
   "source": [
    "tokenizer = AutoTokenizer.from_pretrained(TOKENIZER_MODEL)#, config=\"tokenizer_config.json\")\n",
    "# print(model.config)\n",
    "# tokenizer.save(\"tokenizer.json\")\n",
    "# tokenizer = PreTrainedTokenizerFast(tokenizer_file=\"tokenizer_config.json\")\n",
    "\n",
    "# print(tokenizer)\n",
    "######################## PREPROCESS ################################\n",
    "ndf = make_train_dataset_from_codefolder(CODE_DATA_PATH)\n",
    "preprocess_bm25(ndf)\n",
    "\n",
    "# train_df, val_df = make_train_dataset_from_codefolder(CODE_DATA_PATH)\n",
    "# preprocess_bm25(train_df, \"bm25_train_xlnet\")\n",
    "# preprocess_bm25(val_df, \"bm25_val_xlnet\")\n",
    "# z\n",
    "####################################################################\n",
    "tokenizer = AutoTokenizer.from_pretrained(PRETRAINED_MODEL)\n",
    "\n",
    "train_dataset = load_dataset(\"csv\", data_files=TRAIN_DATA)['train']\n",
    "# train_dataset = train_dataset.shuffle(seed=SEED).select(range(2000))\n",
    "train_dataset = train_dataset.select(range(TRAIN_SELECT_NUM))\n",
    "train_dataset = train_dataset.map(\n",
    "    preprocess_function,\n",
    "    remove_columns=['code1', 'code2', 'similar'],\n",
    "    load_from_cache_file=False,\n",
    "    batched=True\n",
    ")\n",
    "\n",
    "val_dataset = load_dataset(\"csv\", data_files=VAL_DATA)['train']\n",
    "# val_dataset = val_dataset.shuffle(seed=SEED).select(range(200))\n",
    "# val_dataset = val_dataset.select(range(VAL_SELECT_NUM))\n",
    "val_dataset = val_dataset.map(\n",
    "    preprocess_function,\n",
    "    remove_columns=['code1', 'code2', 'similar'],\n",
    "    load_from_cache_file=False,\n",
    "    batched=True\n",
    ")\n",
    "# train_dataset = train_dataset.train_test_split(TRAIN_TEST_SPLIT_RATIO, load_from_cache_file=False)\n",
    "data_collator = DataCollatorWithPadding(tokenizer=tokenizer)\n",
    "\n",
    "# 10-fold cross-validation\n",
    "# val_ds = load_dataset(\"csv\", data_files=TRAIN_DATA, split=[f\"train[{k}%:{k+10}%]\" for k in range(0, 100, 10)])\n",
    "# train_ds = load_dataset(\"csv\", data_files=TRAIN_DATA, split=[f\"train[:{k}%]+train[{k+10}%:]\" for k in range(0, 100, 10)])"
   ]
  },
  {
   "cell_type": "markdown",
   "id": "f20415d1-d28f-4e80-b338-7854505808ba",
   "metadata": {},
   "source": [
    "## Define Model and Train"
   ]
  },
  {
   "cell_type": "code",
   "execution_count": 6,
   "id": "b02370cd-3cbc-433d-9dfe-d6f038a9167c",
   "metadata": {},
   "outputs": [
    {
     "name": "stderr",
     "output_type": "stream",
     "text": [
      "Some weights of BertForSequenceClassification were not initialized from the model checkpoint at michiyasunaga/BioLinkBERT-base and are newly initialized: ['classifier.bias', 'classifier.weight']\n",
      "You should probably TRAIN this model on a down-stream task to be able to use it for predictions and inference.\n",
      "Using amp half precision backend\n",
      "/home/djlee/deep/djlee_env/lib/python3.8/site-packages/transformers/optimization.py:306: FutureWarning: This implementation of AdamW is deprecated and will be removed in a future version. Use the PyTorch implementation torch.optim.AdamW instead, or set `no_deprecation_warning=True` to disable this warning\n",
      "  warnings.warn(\n",
      "***** Running training *****\n",
      "  Num examples = 200000\n",
      "  Num Epochs = 5\n",
      "  Instantaneous batch size per device = 32\n",
      "  Total train batch size (w. parallel, distributed & accumulation) = 128\n",
      "  Gradient Accumulation steps = 4\n",
      "  Total optimization steps = 7810\n",
      "Automatic Weights & Biases logging enabled, to disable set os.environ[\"WANDB_DISABLED\"] = \"true\"\n",
      "Failed to detect the name of this notebook, you can set it manually with the WANDB_NOTEBOOK_NAME environment variable to enable code saving.\n",
      "\u001b[34m\u001b[1mwandb\u001b[0m: Currently logged in as: \u001b[33mdjlee\u001b[0m. Use \u001b[1m`wandb login --relogin`\u001b[0m to force relogin\n"
     ]
    },
    {
     "data": {
      "text/html": [
       "wandb version 0.12.17 is available!  To upgrade, please run:\n",
       " $ pip install wandb --upgrade"
      ],
      "text/plain": [
       "<IPython.core.display.HTML object>"
      ]
     },
     "metadata": {},
     "output_type": "display_data"
    },
    {
     "data": {
      "text/html": [
       "Tracking run with wandb version 0.12.16"
      ],
      "text/plain": [
       "<IPython.core.display.HTML object>"
      ]
     },
     "metadata": {},
     "output_type": "display_data"
    },
    {
     "data": {
      "text/html": [
       "Run data is saved locally in <code>/home/djlee/deep/dacon/code_similarity/wandb/run-20220606_014112-3gtku3sf</code>"
      ],
      "text/plain": [
       "<IPython.core.display.HTML object>"
      ]
     },
     "metadata": {},
     "output_type": "display_data"
    },
    {
     "data": {
      "text/html": [
       "Syncing run <strong><a href=\"https://wandb.ai/djlee/huggingface/runs/3gtku3sf\" target=\"_blank\">./results</a></strong> to <a href=\"https://wandb.ai/djlee/huggingface\" target=\"_blank\">Weights & Biases</a> (<a href=\"https://wandb.me/run\" target=\"_blank\">docs</a>)<br/>"
      ],
      "text/plain": [
       "<IPython.core.display.HTML object>"
      ]
     },
     "metadata": {},
     "output_type": "display_data"
    },
    {
     "data": {
      "text/html": [
       "\n",
       "    <div>\n",
       "      \n",
       "      <progress value='7810' max='7810' style='width:300px; height:20px; vertical-align: middle;'></progress>\n",
       "      [7810/7810 7:54:13, Epoch 4/5]\n",
       "    </div>\n",
       "    <table border=\"1\" class=\"dataframe\">\n",
       "  <thead>\n",
       " <tr style=\"text-align: left;\">\n",
       "      <th>Epoch</th>\n",
       "      <th>Training Loss</th>\n",
       "      <th>Validation Loss</th>\n",
       "      <th>Accuracy</th>\n",
       "      <th>F1</th>\n",
       "    </tr>\n",
       "  </thead>\n",
       "  <tbody>\n",
       "    <tr>\n",
       "      <td>0</td>\n",
       "      <td>0.103800</td>\n",
       "      <td>0.092736</td>\n",
       "      <td>0.969894</td>\n",
       "      <td>0.969666</td>\n",
       "    </tr>\n",
       "    <tr>\n",
       "      <td>1</td>\n",
       "      <td>0.042900</td>\n",
       "      <td>0.052839</td>\n",
       "      <td>0.982471</td>\n",
       "      <td>0.982427</td>\n",
       "    </tr>\n",
       "    <tr>\n",
       "      <td>2</td>\n",
       "      <td>0.023300</td>\n",
       "      <td>0.070938</td>\n",
       "      <td>0.981358</td>\n",
       "      <td>0.981365</td>\n",
       "    </tr>\n",
       "    <tr>\n",
       "      <td>3</td>\n",
       "      <td>0.011700</td>\n",
       "      <td>0.070066</td>\n",
       "      <td>0.984085</td>\n",
       "      <td>0.984012</td>\n",
       "    </tr>\n",
       "    <tr>\n",
       "      <td>4</td>\n",
       "      <td>0.004800</td>\n",
       "      <td>0.086356</td>\n",
       "      <td>0.984418</td>\n",
       "      <td>0.984335</td>\n",
       "    </tr>\n",
       "  </tbody>\n",
       "</table><p>"
      ],
      "text/plain": [
       "<IPython.core.display.HTML object>"
      ]
     },
     "metadata": {},
     "output_type": "display_data"
    },
    {
     "name": "stderr",
     "output_type": "stream",
     "text": [
      "***** Running Evaluation *****\n",
      "  Num examples = 17970\n",
      "  Batch size = 32\n",
      "Saving model checkpoint to ./results/checkpoint-1562\n",
      "Configuration saved in ./results/checkpoint-1562/config.json\n",
      "Model weights saved in ./results/checkpoint-1562/pytorch_model.bin\n",
      "tokenizer config file saved in ./results/checkpoint-1562/tokenizer_config.json\n",
      "Special tokens file saved in ./results/checkpoint-1562/special_tokens_map.json\n",
      "***** Running Evaluation *****\n",
      "  Num examples = 17970\n",
      "  Batch size = 32\n",
      "Saving model checkpoint to ./results/checkpoint-3124\n",
      "Configuration saved in ./results/checkpoint-3124/config.json\n",
      "Model weights saved in ./results/checkpoint-3124/pytorch_model.bin\n",
      "tokenizer config file saved in ./results/checkpoint-3124/tokenizer_config.json\n",
      "Special tokens file saved in ./results/checkpoint-3124/special_tokens_map.json\n",
      "***** Running Evaluation *****\n",
      "  Num examples = 17970\n",
      "  Batch size = 32\n",
      "Saving model checkpoint to ./results/checkpoint-4686\n",
      "Configuration saved in ./results/checkpoint-4686/config.json\n",
      "Model weights saved in ./results/checkpoint-4686/pytorch_model.bin\n",
      "tokenizer config file saved in ./results/checkpoint-4686/tokenizer_config.json\n",
      "Special tokens file saved in ./results/checkpoint-4686/special_tokens_map.json\n",
      "***** Running Evaluation *****\n",
      "  Num examples = 17970\n",
      "  Batch size = 32\n",
      "Saving model checkpoint to ./results/checkpoint-6248\n",
      "Configuration saved in ./results/checkpoint-6248/config.json\n",
      "Model weights saved in ./results/checkpoint-6248/pytorch_model.bin\n",
      "tokenizer config file saved in ./results/checkpoint-6248/tokenizer_config.json\n",
      "Special tokens file saved in ./results/checkpoint-6248/special_tokens_map.json\n",
      "***** Running Evaluation *****\n",
      "  Num examples = 17970\n",
      "  Batch size = 32\n",
      "Saving model checkpoint to ./results/checkpoint-7810\n",
      "Configuration saved in ./results/checkpoint-7810/config.json\n",
      "Model weights saved in ./results/checkpoint-7810/pytorch_model.bin\n",
      "tokenizer config file saved in ./results/checkpoint-7810/tokenizer_config.json\n",
      "Special tokens file saved in ./results/checkpoint-7810/special_tokens_map.json\n",
      "\n",
      "\n",
      "Training completed. Do not forget to share your model on huggingface.co/models =)\n",
      "\n",
      "\n",
      "Loading best model from ./results/checkpoint-7810 (score: 0.9844184752365053).\n"
     ]
    },
    {
     "data": {
      "text/plain": [
       "TrainOutput(global_step=7810, training_loss=0.037283038055087786, metrics={'train_runtime': 28459.0861, 'train_samples_per_second': 35.138, 'train_steps_per_second': 0.274, 'total_flos': 2.6242867683792384e+17, 'train_loss': 0.037283038055087786, 'epoch': 5.0})"
      ]
     },
     "execution_count": 6,
     "metadata": {},
     "output_type": "execute_result"
    }
   ],
   "source": [
    "model = AutoModelForSequenceClassification.from_pretrained(PRETRAINED_MODEL) # TODO: RobertaForSequenceClassification 로 바꾸기\n",
    "\n",
    "# TODO: Lamb 성능 확인하기\n",
    "# optimizer = optim.Lamb(\n",
    "#     model.parameters(),\n",
    "#     lr=INIT_LR,\n",
    "#     betas=(0.9, 0.999),\n",
    "#     eps=1e-8,\n",
    "#     weight_decay=WD,\n",
    "# )\n",
    "# scheduler = torch.optim.lr_scheduler.OneCycleLR(\n",
    "#     optimizer,\n",
    "#     max_lr=MAX_LR,\n",
    "#     steps_per_epoch=round(len(train_dataset)/BATCH/GRADIENT_ACCUMULATION_STEPS),\n",
    "#     epochs=EPOCHS,\n",
    "# )\n",
    "metric = load_metric(\"glue\", \"mrpc\") # \"glue\", \"sst2\" , \"stsb\", \"mrpc\" or \"accuracy\"\n",
    "training_args = TrainingArguments(\n",
    "    output_dir=OUTPUT_DIR,\n",
    "    per_device_train_batch_size=BATCH,\n",
    "    per_device_eval_batch_size=BATCH,\n",
    "    num_train_epochs=EPOCHS,\n",
    "    do_train=True,\n",
    "    do_eval=True,\n",
    "    save_strategy=\"epoch\",\n",
    "    logging_strategy=\"epoch\",\n",
    "    evaluation_strategy=\"epoch\",\n",
    "    gradient_accumulation_steps=GRADIENT_ACCUMULATION_STEPS, # TODO: 높일 수록 배치 사이즈 증가하는 효과. 성능 더 좋아 질 수도\n",
    "    gradient_checkpointing=True, # XLNET 미지원\n",
    "    fp16=True,\n",
    "    load_best_model_at_end=True,\n",
    "    metric_for_best_model=\"accuracy\",\n",
    "    # deepspeed=DEEPSPEED_CONFIG,\n",
    "    # auto_find_batch_size=True,\n",
    "    dataloader_num_workers=NUM_WORKERS,\n",
    ")\n",
    "\n",
    "trainer = Trainer(\n",
    "    model=model,\n",
    "    args=training_args,\n",
    "    train_dataset=train_dataset,\n",
    "    eval_dataset=val_dataset,\n",
    "    tokenizer=tokenizer,\n",
    "    data_collator=data_collator,\n",
    "    # optimizers=(optimizer, scheduler), # TODO: 성능 확인\n",
    "    compute_metrics=metric_function,\n",
    ")\n",
    "\n",
    "trainer.train()"
   ]
  },
  {
   "cell_type": "markdown",
   "id": "93981f67-bb59-41b9-b1d7-67af59f7e393",
   "metadata": {},
   "source": [
    "## Predict"
   ]
  },
  {
   "cell_type": "code",
   "execution_count": 7,
   "id": "a8f82389-c08d-4b14-9b1e-d94d71ff214b",
   "metadata": {},
   "outputs": [
    {
     "name": "stderr",
     "output_type": "stream",
     "text": [
      "Using custom data configuration default-390241dd22cb4626\n",
      "Reusing dataset csv (/home/djlee/.cache/huggingface/datasets/csv/default-390241dd22cb4626/0.0.0/433e0ccc46f9880962cc2b12065189766fbb2bee57a221866138fb9203c83519)\n"
     ]
    },
    {
     "data": {
      "application/vnd.jupyter.widget-view+json": {
       "model_id": "1bb978513ad844c6b9b67d2d5c81e038",
       "version_major": 2,
       "version_minor": 0
      },
      "text/plain": [
       "  0%|          | 0/1 [00:00<?, ?it/s]"
      ]
     },
     "metadata": {},
     "output_type": "display_data"
    },
    {
     "data": {
      "application/vnd.jupyter.widget-view+json": {
       "model_id": "26d995e671b346938043a09c12dc9d13",
       "version_major": 2,
       "version_minor": 0
      },
      "text/plain": [
       "  0%|          | 0/180 [00:00<?, ?ba/s]"
      ]
     },
     "metadata": {},
     "output_type": "display_data"
    },
    {
     "name": "stderr",
     "output_type": "stream",
     "text": [
      "The following columns in the test set don't have a corresponding argument in `BertForSequenceClassification.forward` and have been ignored: pair_id. If pair_id are not expected by `BertForSequenceClassification.forward`,  you can safely ignore this message.\n",
      "***** Running Prediction *****\n",
      "  Num examples = 179700\n",
      "  Batch size = 32\n"
     ]
    },
    {
     "data": {
      "text/html": [
       "\n",
       "    <div>\n",
       "      \n",
       "      <progress value='5616' max='5616' style='width:300px; height:20px; vertical-align: middle;'></progress>\n",
       "      [5616/5616 20:40]\n",
       "    </div>\n",
       "    "
      ],
      "text/plain": [
       "<IPython.core.display.HTML object>"
      ]
     },
     "metadata": {},
     "output_type": "display_data"
    }
   ],
   "source": [
    "# 모델 예측\n",
    "test_dataset = load_dataset(\"csv\", data_files=TEST_DATA)['train']\n",
    "# test_dataset = test_dataset.shuffle(seed=SEED).select(range(40))\n",
    "test_dataset = test_dataset.map(\n",
    "    preprocess_function,\n",
    "    remove_columns=['code1', 'code2'],\n",
    "    load_from_cache_file=False,\n",
    "    batched=True\n",
    ")\n",
    "predictions = trainer.predict(test_dataset)\n",
    "\n",
    "df = pd.read_csv(SUBMISSION)\n",
    "df['similar'] = np.argmax(predictions.predictions, axis=-1)\n",
    "df.to_csv('./submission.csv', index=False)"
   ]
  }
 ],
 "metadata": {
  "kernelspec": {
   "display_name": "Python 3 (ipykernel)",
   "language": "python",
   "name": "python3"
  },
  "language_info": {
   "codemirror_mode": {
    "name": "ipython",
    "version": 3
   },
   "file_extension": ".py",
   "mimetype": "text/x-python",
   "name": "python",
   "nbconvert_exporter": "python",
   "pygments_lexer": "ipython3",
   "version": "3.8.10"
  }
 },
 "nbformat": 4,
 "nbformat_minor": 5
}
