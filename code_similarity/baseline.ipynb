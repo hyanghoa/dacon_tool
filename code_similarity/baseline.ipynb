{
 "cells": [
  {
   "cell_type": "markdown",
   "id": "199be930-7e11-43f4-b056-a52fc1a93dc8",
   "metadata": {},
   "source": [
    "## Import"
   ]
  },
  {
   "cell_type": "code",
   "execution_count": 1,
   "id": "94dc6b5c-f92a-403d-a6f0-599f712dd15b",
   "metadata": {},
   "outputs": [],
   "source": [
    "import re\n",
    "import os\n",
    "import random\n",
    "import torch\n",
    "from pprint import pprint\n",
    "from itertools import combinations\n",
    "\n",
    "import pandas as pd\n",
    "import numpy as np\n",
    "from sklearn.metrics.pairwise import cosine_similarity\n",
    "from sklearn.model_selection import train_test_split\n",
    "from transformers import AutoTokenizer, AutoModelForSequenceClassification, DataCollatorWithPadding, TrainingArguments, Trainer\n",
    "from datasets import load_dataset, load_metric\n",
    "from tqdm.notebook import tqdm\n",
    "from rank_bm25 import BM25Okapi\n",
    "import torch_optimizer as optim"
   ]
  },
  {
   "cell_type": "markdown",
   "id": "93315f6c-f85f-403b-8337-3fb509b7237c",
   "metadata": {},
   "source": [
    "## Hyper parameters"
   ]
  },
  {
   "cell_type": "code",
   "execution_count": 2,
   "id": "73044582-489f-4b93-b38d-6cbac9f3241e",
   "metadata": {},
   "outputs": [],
   "source": [
    "TRAIN_DATA = \"open/preprocess_bm25.csv\"\n",
    "SAMPLE_DATA = \"open/sample_train.csv\"\n",
    "CODE_DATA_PATH = \"open/code\"\n",
    "TEST_DATA = \"open/test.csv\"\n",
    "SUBMISSION = 'open/sample_submission.csv'\n",
    "PRETRAINED_MODEL = \"michiyasunaga/LinkBERT-base\" # TODO: Large 모델 성능 실험\n",
    "NUM_LABELS = 2\n",
    "MAX_LEN = 512\n",
    "BATCH = 32\n",
    "GRADIENT_ACCUMULATION_STEPS = 4\n",
    "EPOCHS = 5\n",
    "LR = 2e-5\n",
    "WD = 1e-2\n",
    "SEED = 42\n",
    "TRAIN_TEST_SPLIT_RATIO = 0.1\n",
    "OUTPUT_DIR = \"./results\""
   ]
  },
  {
   "cell_type": "markdown",
   "id": "55261051-9fa6-4598-900e-06105cb9c563",
   "metadata": {
    "jp-MarkdownHeadingCollapsed": true,
    "tags": []
   },
   "source": [
    "## Fix seed"
   ]
  },
  {
   "cell_type": "code",
   "execution_count": 3,
   "id": "4c57a3ee-1cf9-4d43-a1b3-30168b890d31",
   "metadata": {},
   "outputs": [],
   "source": [
    "random.seed(SEED)\n",
    "np.random.seed(SEED)\n",
    "os.environ[\"PYTHONHASHSEED\"] = str(SEED)\n",
    "torch.manual_seed(SEED)\n",
    "torch.cuda.manual_seed(SEED)\n",
    "torch.backends.cudnn.deterministic = False  # True 할 시 연산속도 감소. 마지막에 고정시킬 때 사용 권장.\n",
    "torch.backends.cudnn.benchmark = True"
   ]
  },
  {
   "cell_type": "markdown",
   "id": "c8420bd1-8115-40a1-91fb-021d3d3aed7a",
   "metadata": {
    "jp-MarkdownHeadingCollapsed": true,
    "tags": []
   },
   "source": [
    "## Functions"
   ]
  },
  {
   "cell_type": "code",
   "execution_count": 4,
   "id": "8d1f6adf-8c00-4491-b767-8b3230981e8c",
   "metadata": {},
   "outputs": [],
   "source": [
    "tokenizer = AutoTokenizer.from_pretrained(PRETRAINED_MODEL)\n",
    "def preprocess_function(examples):\n",
    "    for i in range(1, 3):\n",
    "        examples[f\"code{i}\"] = re.sub(r\"^#.*\", \"\", examples[f\"code{i}\"], flags=re.MULTILINE)\n",
    "        examples[f\"code{i}\"] = re.sub(r'\"\"\".*?\"\"\"', \"\", examples[f\"code{i}\"], flags=re.S)\n",
    "        examples[f\"code{i}\"] = re.sub(r\"^\\n\", \"\", examples[f\"code{i}\"], flags=re.MULTILINE)\n",
    "        \n",
    "    outputs = tokenizer(examples['code1'], examples['code2'], padding=True, max_length=MAX_LEN, truncation=True)\n",
    "    if 'similar' in examples:\n",
    "        outputs[\"labels\"] = examples[\"similar\"]\n",
    "    return outputs\n",
    "\n",
    "metric = load_metric(\"glue\", \"sst2\") # \"glue\", \"sst2\" or \"accuracy\"\n",
    "def metric_function(p):\n",
    "    preds, labels = p\n",
    "    output =  metric.compute(references=labels, predictions=np.argmax(preds, axis=-1))\n",
    "    return output\n",
    "\n",
    "# def make_train_dataset_from_codefolder(path):\n",
    "#     scripts_list = []\n",
    "#     problem_nums = []\n",
    "\n",
    "#     for problem_folder in tqdm(os.listdir(path)):\n",
    "#         scripts = os.listdir(os.path.join(path, problem_folder))\n",
    "#         problem_num = scripts[0].split('_')[0]\n",
    "#         for script in scripts:\n",
    "#             script_file = os.path.join(path, problem_folder, script)\n",
    "#             with open(script_file, 'r', encoding='utf-8') as file:\n",
    "#                 lines = file.read()\n",
    "#             scripts_list.append(lines)\n",
    "#         problem_nums.extend([problem_num]*len(scripts))\n",
    "\n",
    "#     df = pd.DataFrame(data = {'code':scripts_list, 'problem_num':problem_nums})\n",
    "#     print(f\"Descirbe: \\n{df.describe()}\")\n",
    "#     print(f\"Head: \\n{df.head()}\")\n",
    "#     print(f\"Length: \\n{len(df)}\")\n",
    "\n",
    "#     df['tokens'] = df['code'].apply(tokenizer.tokenize)\n",
    "#     df['len'] = df['tokens'].apply(len)\n",
    "#     print(f\"Tokens Describe: \\n{df.describe()}\")\n",
    "\n",
    "#     ndf = df[df['len'] <= 512].reset_index(drop=True)\n",
    "#     print(f\"Max Length Clipping Describe: \\n{ndf.describe()}\")\n",
    "#     print(\"Done!\")\n",
    "#     return ndf\n",
    "    \n",
    "# def preprocess_bm25(df, file_name=\"preprocess_bm25\"):\n",
    "#     codes = df['code'].to_list()\n",
    "#     problems = df['problem_num'].unique().tolist()\n",
    "#     problems.sort()\n",
    "\n",
    "#     tokenized_corpus = [tokenizer.tokenize(code) for code in codes]\n",
    "#     bm25 = BM25Okapi(tokenized_corpus)\n",
    "\n",
    "#     total_positive_pairs = []\n",
    "#     total_negative_pairs = []\n",
    "\n",
    "#     for problem in tqdm(problems):\n",
    "#         solution_codes = df[df['problem_num'] == problem]['code']\n",
    "#         positive_pairs = list(combinations(solution_codes.to_list(),2))\n",
    "\n",
    "#         solution_codes_indices = solution_codes.index.to_list()\n",
    "#         negative_pairs = []\n",
    "\n",
    "#         first_tokenized_code = tokenizer.tokenize(positive_pairs[0][0])\n",
    "#         negative_code_scores = bm25.get_scores(first_tokenized_code)\n",
    "#         negative_code_ranking = negative_code_scores.argsort()[::-1] # 내림차순\n",
    "#         ranking_idx = 0\n",
    "\n",
    "#         for solution_code in solution_codes:\n",
    "#             negative_solutions = []\n",
    "#             while len(negative_solutions) < len(positive_pairs) // len(solution_codes):\n",
    "#                 high_score_idx = negative_code_ranking[ranking_idx]\n",
    "\n",
    "#                 if high_score_idx not in solution_codes_indices:\n",
    "#                     negative_solutions.append(df['code'].iloc[high_score_idx])\n",
    "#                 ranking_idx += 1\n",
    "\n",
    "#             for negative_solution in negative_solutions:\n",
    "#                 negative_pairs.append((solution_code, negative_solution))\n",
    "\n",
    "#         total_positive_pairs.extend(positive_pairs)\n",
    "#         total_negative_pairs.extend(negative_pairs)\n",
    "\n",
    "#     pos_code1 = list(map(lambda x:x[0],total_positive_pairs))\n",
    "#     pos_code2 = list(map(lambda x:x[1],total_positive_pairs))\n",
    "\n",
    "#     neg_code1 = list(map(lambda x:x[0],total_negative_pairs))\n",
    "#     neg_code2 = list(map(lambda x:x[1],total_negative_pairs))\n",
    "\n",
    "#     pos_label = [1]*len(pos_code1)\n",
    "#     neg_label = [0]*len(neg_code1)\n",
    "\n",
    "#     pos_code1.extend(neg_code1)\n",
    "#     total_code1 = pos_code1\n",
    "#     pos_code2.extend(neg_code2)\n",
    "#     total_code2 = pos_code2\n",
    "#     pos_label.extend(neg_label)\n",
    "#     total_label = pos_label\n",
    "#     pair_data = pd.DataFrame(data={\n",
    "#         'code1':total_code1,\n",
    "#         'code2':total_code2,\n",
    "#         'similar':total_label\n",
    "#     })\n",
    "#     pair_data = pair_data.sample(frac=1).reset_index(drop=True)\n",
    "#     pair_data.to_csv(f'open/{file_name}.csv',index=False)"
   ]
  },
  {
   "cell_type": "markdown",
   "id": "3574acd8-517e-4fd2-ae11-cbe2e3b10d33",
   "metadata": {},
   "source": [
    "## Load Train / Test dataset"
   ]
  },
  {
   "cell_type": "code",
   "execution_count": 5,
   "id": "ece7d25b-88cb-40d4-b1f6-9d5a888d77b2",
   "metadata": {},
   "outputs": [
    {
     "name": "stderr",
     "output_type": "stream",
     "text": [
      "Using custom data configuration default-1a11ee059614c6a4\n",
      "Reusing dataset csv (/home/djlee/.cache/huggingface/datasets/csv/default-1a11ee059614c6a4/0.0.0/433e0ccc46f9880962cc2b12065189766fbb2bee57a221866138fb9203c83519)\n"
     ]
    },
    {
     "data": {
      "application/vnd.jupyter.widget-view+json": {
       "model_id": "acea1bf41dd546259a1d296fdf28b179",
       "version_major": 2,
       "version_minor": 0
      },
      "text/plain": [
       "  0%|          | 0/1 [00:00<?, ?it/s]"
      ]
     },
     "metadata": {},
     "output_type": "display_data"
    },
    {
     "name": "stderr",
     "output_type": "stream",
     "text": [
      "Parameter 'function'=<function preprocess_function at 0x7ff238558430> of the transform datasets.arrow_dataset.Dataset._map_single couldn't be hashed properly, a random hash was used instead. Make sure your transforms and parameters are serializable with pickle or dill for the dataset fingerprinting and caching to work. If you reuse this transform, the caching mechanism will consider it to be different from the previous calls and recompute everything. This warning is only showed once. Subsequent hashing failures won't be showed.\n",
      "Loading cached processed dataset at sample_train\n",
      "Loading cached shuffled indices for dataset at cache-8c47d3c8f099c300.arrow\n"
     ]
    }
   ],
   "source": [
    "# df = make_train_dataset_from_codefolder(CODE_DATA_PATH)\n",
    "# preprocess_bm25(df)\n",
    "\n",
    "dataset = load_dataset(\"csv\", data_files=TRAIN_DATA)['train']\n",
    "dataset = dataset.map(\n",
    "    preprocess_function,\n",
    "    remove_columns=['code1', 'code2', 'similar'],\n",
    "    load_from_cache_file=True,\n",
    "    cache_file_name=\"sample_train\",\n",
    "    batched=True\n",
    ")\n",
    "dataset = dataset.shuffle(seed=SEED).select(range(40000))\n",
    "dataset = dataset.train_test_split(TRAIN_TEST_SPLIT_RATIO)\n",
    "data_collator = DataCollatorWithPadding(tokenizer=tokenizer)\n",
    "# 10-fold cross-validation\n",
    "# val_ds = load_dataset(\"csv\", data_files=TRAIN_DATA, split=[f\"train[{k}%:{k+10}%]\" for k in range(0, 100, 10)])\n",
    "# train_ds = load_dataset(\"csv\", data_files=TRAIN_DATA, split=[f\"train[:{k}%]+train[{k+10}%:]\" for k in range(0, 100, 10)])"
   ]
  },
  {
   "cell_type": "markdown",
   "id": "f20415d1-d28f-4e80-b338-7854505808ba",
   "metadata": {},
   "source": [
    "## Define Model and Train"
   ]
  },
  {
   "cell_type": "code",
   "execution_count": null,
   "id": "b02370cd-3cbc-433d-9dfe-d6f038a9167c",
   "metadata": {},
   "outputs": [
    {
     "name": "stderr",
     "output_type": "stream",
     "text": [
      "Some weights of BertForSequenceClassification were not initialized from the model checkpoint at michiyasunaga/LinkBERT-base and are newly initialized: ['classifier.weight', 'classifier.bias']\n",
      "You should probably TRAIN this model on a down-stream task to be able to use it for predictions and inference.\n",
      "Using amp half precision backend\n",
      "/home/djlee/deep/djlee_env/lib/python3.8/site-packages/transformers/optimization.py:306: FutureWarning: This implementation of AdamW is deprecated and will be removed in a future version. Use the PyTorch implementation torch.optim.AdamW instead, or set `no_deprecation_warning=True` to disable this warning\n",
      "  warnings.warn(\n",
      "***** Running training *****\n",
      "  Num examples = 36000\n",
      "  Num Epochs = 5\n",
      "  Instantaneous batch size per device = 32\n",
      "  Total train batch size (w. parallel, distributed & accumulation) = 128\n",
      "  Gradient Accumulation steps = 4\n",
      "  Total optimization steps = 1405\n",
      "Automatic Weights & Biases logging enabled, to disable set os.environ[\"WANDB_DISABLED\"] = \"true\"\n",
      "Failed to detect the name of this notebook, you can set it manually with the WANDB_NOTEBOOK_NAME environment variable to enable code saving.\n",
      "\u001b[34m\u001b[1mwandb\u001b[0m: Currently logged in as: \u001b[33mdjlee\u001b[0m. Use \u001b[1m`wandb login --relogin`\u001b[0m to force relogin\n"
     ]
    },
    {
     "data": {
      "text/html": [
       "Tracking run with wandb version 0.12.16"
      ],
      "text/plain": [
       "<IPython.core.display.HTML object>"
      ]
     },
     "metadata": {},
     "output_type": "display_data"
    },
    {
     "data": {
      "text/html": [
       "Run data is saved locally in <code>/home/djlee/deep/dacon/code_similarity/wandb/run-20220521_201246-2ingd2pz</code>"
      ],
      "text/plain": [
       "<IPython.core.display.HTML object>"
      ]
     },
     "metadata": {},
     "output_type": "display_data"
    },
    {
     "data": {
      "text/html": [
       "Syncing run <strong><a href=\"https://wandb.ai/djlee/huggingface/runs/2ingd2pz\" target=\"_blank\">./results</a></strong> to <a href=\"https://wandb.ai/djlee/huggingface\" target=\"_blank\">Weights & Biases</a> (<a href=\"https://wandb.me/run\" target=\"_blank\">docs</a>)<br/>"
      ],
      "text/plain": [
       "<IPython.core.display.HTML object>"
      ]
     },
     "metadata": {},
     "output_type": "display_data"
    },
    {
     "data": {
      "text/html": [
       "\n",
       "    <div>\n",
       "      \n",
       "      <progress value='594' max='1405' style='width:300px; height:20px; vertical-align: middle;'></progress>\n",
       "      [ 594/1405 37:05 < 50:49, 0.27 it/s, Epoch 2.11/5]\n",
       "    </div>\n",
       "    <table border=\"1\" class=\"dataframe\">\n",
       "  <thead>\n",
       " <tr style=\"text-align: left;\">\n",
       "      <th>Epoch</th>\n",
       "      <th>Training Loss</th>\n",
       "      <th>Validation Loss</th>\n",
       "      <th>Accuracy</th>\n",
       "    </tr>\n",
       "  </thead>\n",
       "  <tbody>\n",
       "    <tr>\n",
       "      <td>0</td>\n",
       "      <td>0.350000</td>\n",
       "      <td>0.287115</td>\n",
       "      <td>0.945750</td>\n",
       "    </tr>\n",
       "    <tr>\n",
       "      <td>1</td>\n",
       "      <td>0.269600</td>\n",
       "      <td>0.272454</td>\n",
       "      <td>0.956250</td>\n",
       "    </tr>\n",
       "  </tbody>\n",
       "</table><p>"
      ],
      "text/plain": [
       "<IPython.core.display.HTML object>"
      ]
     },
     "metadata": {},
     "output_type": "display_data"
    },
    {
     "name": "stderr",
     "output_type": "stream",
     "text": [
      "***** Running Evaluation *****\n",
      "  Num examples = 4000\n",
      "  Batch size = 32\n",
      "Saving model checkpoint to ./results/checkpoint-281\n",
      "Configuration saved in ./results/checkpoint-281/config.json\n",
      "Model weights saved in ./results/checkpoint-281/pytorch_model.bin\n",
      "tokenizer config file saved in ./results/checkpoint-281/tokenizer_config.json\n",
      "Special tokens file saved in ./results/checkpoint-281/special_tokens_map.json\n",
      "***** Running Evaluation *****\n",
      "  Num examples = 4000\n",
      "  Batch size = 32\n",
      "Saving model checkpoint to ./results/checkpoint-562\n",
      "Configuration saved in ./results/checkpoint-562/config.json\n",
      "Model weights saved in ./results/checkpoint-562/pytorch_model.bin\n",
      "tokenizer config file saved in ./results/checkpoint-562/tokenizer_config.json\n",
      "Special tokens file saved in ./results/checkpoint-562/special_tokens_map.json\n"
     ]
    }
   ],
   "source": [
    "model = AutoModelForSequenceClassification.from_pretrained(PRETRAINED_MODEL, num_labels=NUM_LABELS)\n",
    "\n",
    "training_args = TrainingArguments(\n",
    "    output_dir=OUTPUT_DIR,\n",
    "    learning_rate=LR,\n",
    "    per_device_train_batch_size=BATCH,\n",
    "    per_device_eval_batch_size=BATCH,\n",
    "    num_train_epochs=EPOCHS,\n",
    "    weight_decay=WD,\n",
    "    do_train=True,\n",
    "    do_eval=True,\n",
    "    save_strategy=\"epoch\",\n",
    "    logging_strategy=\"epoch\",\n",
    "    evaluation_strategy=\"epoch\",\n",
    "    gradient_accumulation_steps=GRADIENT_ACCUMULATION_STEPS, # TODO: 높일 수록 배치 사이즈 증가하는 효과. 성능 더 좋아 질 수도\n",
    "    gradient_checkpointing=True,\n",
    "    fp16=True,\n",
    "    load_best_model_at_end=True,\n",
    "    metric_for_best_model=\"accuracy\",\n",
    "    label_smoothing_factor=0.1,\n",
    "    # optim=optim.Lamb(model.parameters(), lr=LR, betas=(0.9, 0.999), eps=1e-6, weight_decay=WD) # TODO: Lamb 성능 테스트\n",
    ")\n",
    "\n",
    "trainer = Trainer(\n",
    "    model=model,\n",
    "    args=training_args,\n",
    "    train_dataset=dataset[\"train\"],\n",
    "    eval_dataset=dataset[\"test\"],\n",
    "    tokenizer=tokenizer,\n",
    "    data_collator=data_collator,\n",
    "    compute_metrics=metric_function\n",
    ")\n",
    "\n",
    "trainer.train()"
   ]
  },
  {
   "cell_type": "markdown",
   "id": "93981f67-bb59-41b9-b1d7-67af59f7e393",
   "metadata": {},
   "source": [
    "## Inference"
   ]
  },
  {
   "cell_type": "code",
   "execution_count": null,
   "id": "a8f82389-c08d-4b14-9b1e-d94d71ff214b",
   "metadata": {},
   "outputs": [],
   "source": [
    "# 모델 추론\n",
    "test_dataset = load_dataset(\"csv\", data_files=TEST_DATA)['train']\n",
    "test_dataset = test_dataset.map(preprocess_function, remove_columns=['code1', 'code2'])\n",
    "\n",
    "predictions = trainer.predict(test_dataset)\n",
    "\n",
    "df = pd.read_csv(SUBMISSION)\n",
    "df['similar'] = np.argmax(predictions.predictions, axis=-1)\n",
    "df.to_csv('./submission.csv', index=False)"
   ]
  }
 ],
 "metadata": {
  "kernelspec": {
   "display_name": "Python 3 (ipykernel)",
   "language": "python",
   "name": "python3"
  },
  "language_info": {
   "codemirror_mode": {
    "name": "ipython",
    "version": 3
   },
   "file_extension": ".py",
   "mimetype": "text/x-python",
   "name": "python",
   "nbconvert_exporter": "python",
   "pygments_lexer": "ipython3",
   "version": "3.8.10"
  }
 },
 "nbformat": 4,
 "nbformat_minor": 5
}
